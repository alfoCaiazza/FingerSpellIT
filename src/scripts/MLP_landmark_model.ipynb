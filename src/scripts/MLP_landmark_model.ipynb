{
 "cells": [
  {
   "cell_type": "code",
   "execution_count": 1,
   "id": "dcf87aef",
   "metadata": {},
   "outputs": [
    {
     "name": "stderr",
     "output_type": "stream",
     "text": [
      "2025-05-28 21:37:52.626859: I tensorflow/core/util/port.cc:153] oneDNN custom operations are on. You may see slightly different numerical results due to floating-point round-off errors from different computation orders. To turn them off, set the environment variable `TF_ENABLE_ONEDNN_OPTS=0`.\n",
      "2025-05-28 21:37:52.775989: E external/local_xla/xla/stream_executor/cuda/cuda_fft.cc:467] Unable to register cuFFT factory: Attempting to register factory for plugin cuFFT when one has already been registered\n",
      "WARNING: All log messages before absl::InitializeLog() is called are written to STDERR\n",
      "E0000 00:00:1748461072.844401   39165 cuda_dnn.cc:8579] Unable to register cuDNN factory: Attempting to register factory for plugin cuDNN when one has already been registered\n",
      "E0000 00:00:1748461072.869800   39165 cuda_blas.cc:1407] Unable to register cuBLAS factory: Attempting to register factory for plugin cuBLAS when one has already been registered\n",
      "W0000 00:00:1748461072.998781   39165 computation_placer.cc:177] computation placer already registered. Please check linkage and avoid linking the same target more than once.\n",
      "W0000 00:00:1748461072.998849   39165 computation_placer.cc:177] computation placer already registered. Please check linkage and avoid linking the same target more than once.\n",
      "W0000 00:00:1748461072.998855   39165 computation_placer.cc:177] computation placer already registered. Please check linkage and avoid linking the same target more than once.\n",
      "W0000 00:00:1748461072.998857   39165 computation_placer.cc:177] computation placer already registered. Please check linkage and avoid linking the same target more than once.\n",
      "2025-05-28 21:37:53.040612: I tensorflow/core/platform/cpu_feature_guard.cc:210] This TensorFlow binary is optimized to use available CPU instructions in performance-critical operations.\n",
      "To enable the following instructions: AVX2 AVX_VNNI FMA, in other operations, rebuild TensorFlow with the appropriate compiler flags.\n",
      "/tmp/ipykernel_39165/253473838.py:19: DeprecationWarning: `import kerastuner` is deprecated, please use `import keras_tuner`.\n",
      "  from kerastuner.tuners import BayesianOptimization\n"
     ]
    }
   ],
   "source": [
    "import tensorflow as tf\n",
    "import numpy as np\n",
    "import pandas as pd\n",
    "import seaborn as sns\n",
    "import mlflow\n",
    "import dagshub\n",
    "import json\n",
    "import os\n",
    "import keras\n",
    "import joblib\n",
    "import matplotlib.pyplot as plt\n",
    "from dagshub import dagshub_logger\n",
    "from sklearn.model_selection import train_test_split\n",
    "from sklearn.preprocessing import LabelEncoder, StandardScaler\n",
    "from tensorflow.keras import layers\n",
    "from tensorflow.keras.models import Model\n",
    "from tensorflow.keras.callbacks import EarlyStopping, ReduceLROnPlateau, Callback\n",
    "from sklearn.metrics import confusion_matrix, classification_report\n",
    "from kerastuner.tuners import BayesianOptimization"
   ]
  },
  {
   "cell_type": "code",
   "execution_count": 2,
   "id": "704f4baa",
   "metadata": {},
   "outputs": [
    {
     "data": {
      "text/plain": [
       "(32220, 64)"
      ]
     },
     "execution_count": 2,
     "metadata": {},
     "output_type": "execute_result"
    }
   ],
   "source": [
    "df = pd.read_csv('../data/csv/aug_landmark_dataset.csv')\n",
    "df.shape"
   ]
  },
  {
   "cell_type": "code",
   "execution_count": 3,
   "id": "478b62da",
   "metadata": {},
   "outputs": [
    {
     "name": "stdout",
     "output_type": "stream",
     "text": [
      "Partitions shape:\n",
      "Train(22554, 63)\n",
      "Validation: (4833, 63)\n",
      "Test:(4833, 63)\n"
     ]
    }
   ],
   "source": [
    "label_encoder = LabelEncoder()\n",
    "scaler = StandardScaler()\n",
    "\n",
    "classes = sorted(df['label'].unique())\n",
    "\n",
    "label_encoder.fit(classes)\n",
    "\n",
    "y = df['label']\n",
    "y = label_encoder.transform(y)\n",
    "\n",
    "X = df.drop(columns=['label'], axis=1)\n",
    "\n",
    "# 70% train, 15% val, 15% test\n",
    "X_temp, X_test, y_temp, y_test = train_test_split(X, y, test_size=0.15, random_state=42, stratify=y)\n",
    "X_train, X_val, y_train, y_val = train_test_split(X_temp, y_temp, test_size=(15/85), random_state=42, stratify=y_temp)\n",
    "\n",
    "print(f\"Partitions shape:\\nTrain{X_train.shape}\\nValidation: {X_val.shape}\\nTest:{X_test.shape}\")\n",
    "\n",
    "X_train = scaler.fit_transform(X_train)\n",
    "X_val = scaler.transform(X_val)\n",
    "X_test = scaler.transform(X_test)"
   ]
  },
  {
   "cell_type": "code",
   "execution_count": 4,
   "id": "fdb9648a",
   "metadata": {},
   "outputs": [
    {
     "data": {
      "text/plain": [
       "['../artifacts/csv_model/augmented/label_encoder.pkl']"
      ]
     },
     "execution_count": 4,
     "metadata": {},
     "output_type": "execute_result"
    }
   ],
   "source": [
    "joblib.dump(scaler, '../artifacts/csv_model/augmented/scaler.pkl')\n",
    "joblib.dump(label_encoder, '../artifacts/csv_model/augmented/label_encoder.pkl')"
   ]
  },
  {
   "cell_type": "code",
   "execution_count": 5,
   "id": "e4499168",
   "metadata": {},
   "outputs": [],
   "source": [
    "# Defining mlflow experiment parameter\n",
    "TRIAL_NAME = \"trial_\"\n",
    "MLFLOW_MAIN_RUN = \"Main Tunining Run: Augmented Landmark Model \"\n",
    "TUNER_DIRECTORY = \"logs/tuner\"\n",
    "TUNER_PROJECT_NAME = \"FingerSpellIT - Augmented Landmark Model\"\n",
    "MODEL_NAME = \"augmented_andmark_model_v1\"\n",
    "EVALUATION_MLFLOW_RUN = \"Evaluating Augmented Landmark Model\"\n",
    "REPORT_NAME = \"augmented_landmark_model_classification_report\"\n",
    "CM_NAME=\"augmented_landmark_model_confusion_matrix_best_model\""
   ]
  },
  {
   "cell_type": "code",
   "execution_count": 6,
   "id": "36f4e52d",
   "metadata": {},
   "outputs": [
    {
     "data": {
      "text/html": [
       "<pre style=\"white-space:pre;overflow-x:auto;line-height:normal;font-family:Menlo,'DejaVu Sans Mono',consolas,'Courier New',monospace\">Accessing as alfoCaiazza\n",
       "</pre>\n"
      ],
      "text/plain": [
       "Accessing as alfoCaiazza\n"
      ]
     },
     "metadata": {},
     "output_type": "display_data"
    },
    {
     "data": {
      "text/html": [
       "<pre style=\"white-space:pre;overflow-x:auto;line-height:normal;font-family:Menlo,'DejaVu Sans Mono',consolas,'Courier New',monospace\">Initialized MLflow to track repo <span style=\"color: #008000; text-decoration-color: #008000\">\"alfoCaiazza/FingerSpellIT\"</span>\n",
       "</pre>\n"
      ],
      "text/plain": [
       "Initialized MLflow to track repo \u001b[32m\"alfoCaiazza/FingerSpellIT\"\u001b[0m\n"
      ]
     },
     "metadata": {},
     "output_type": "display_data"
    },
    {
     "data": {
      "text/html": [
       "<pre style=\"white-space:pre;overflow-x:auto;line-height:normal;font-family:Menlo,'DejaVu Sans Mono',consolas,'Courier New',monospace\">Repository alfoCaiazza/FingerSpellIT initialized!\n",
       "</pre>\n"
      ],
      "text/plain": [
       "Repository alfoCaiazza/FingerSpellIT initialized!\n"
      ]
     },
     "metadata": {},
     "output_type": "display_data"
    }
   ],
   "source": [
    "# Dagshub Initialization\n",
    "mlflow.set_tracking_uri(\"https://dagshub.com/alfoCaiazza/FingerSpellIT.mlflow\")\n",
    "\n",
    "dagshub.init(repo_owner=\"alfoCaiazza\", repo_name=\"FingerSpellIT\", mlflow=True)\n",
    "dagshub_log = dagshub_logger(metrics_path=\"metrics\", hparams_path=\"params\")"
   ]
  },
  {
   "cell_type": "code",
   "execution_count": 7,
   "id": "7e7856d0",
   "metadata": {},
   "outputs": [
    {
     "name": "stdout",
     "output_type": "stream",
     "text": [
      "GPU: PhysicalDevice(name='/physical_device:GPU:0', device_type='GPU')\n"
     ]
    }
   ],
   "source": [
    "# To avoid OOM errors, setting GPU Memory Consuption Growth\n",
    "gpus = tf.config.experimental.list_physical_devices('GPU')\n",
    "for gpu in gpus:\n",
    "    print(f\"GPU: {gpu}\")\n",
    "    tf.config.experimental.set_memory_growth(gpu, True) # Keeping the use of memory limited to prevent errors"
   ]
  },
  {
   "cell_type": "code",
   "execution_count": 8,
   "id": "2315cc4b",
   "metadata": {},
   "outputs": [],
   "source": [
    "def build_model(hp):\n",
    "    # Input Layer\n",
    "    input_layer = layers.Input(shape=(63,))\n",
    "    x = input_layer\n",
    "    \n",
    "    # First Dense Layer\n",
    "    activation = hp.Choice('initial_activation', ['relu', 'tanh', 'sigmoid'])\n",
    "    x = layers.Dense(64, activation=activation)(x)\n",
    "    x = layers.Dropout(hp.Float('initial_dropout', 0.1, 0.5, step=0.1))(x)\n",
    "    \n",
    "    # Tunable Hidden Layers\n",
    "    for i in range(hp.Int('num_layers', 1, 4)):\n",
    "        units = hp.Int(f'units_{i}', 128, 512, step=128)\n",
    "        x = layers.Dense(units, activation=activation)(x)\n",
    "\n",
    "        # Optional BatchNorm\n",
    "        if hp.Boolean(f'use_batchnorm_{i}'):\n",
    "            x = layers.BatchNormalization()(x)\n",
    "        x = layers.Activation(activation)(x)\n",
    "            \n",
    "        x = layers.Dropout(hp.Float(f'dropout_{i}', 0.1, 0.5, step=0.1))(x)\n",
    "    \n",
    "    # Output Layer\n",
    "    prediction = layers.Dense(24, activation='softmax')(x)\n",
    "    \n",
    "    # Compile Model\n",
    "    optimizer_name = hp.Choice('optimizer', ['adam', 'rmsprop', 'sgd'])\n",
    "    \n",
    "    if optimizer_name == 'adam':\n",
    "        optimizer = keras.optimizers.Adam(\n",
    "            learning_rate=hp.Float('adam_lr', 1e-5, 1e-2, sampling='log')\n",
    "        )\n",
    "    elif optimizer_name == 'rmsprop':\n",
    "        optimizer = keras.optimizers.RMSprop(\n",
    "            learning_rate=hp.Float('rmsprop_lr', 1e-5, 1e-2, sampling='log'),\n",
    "            rho=hp.Float('rmsprop_rho', 0.8, 0.99)\n",
    "        )\n",
    "    elif optimizer_name == 'sgd':\n",
    "        optimizer = keras.optimizers.SGD(\n",
    "            learning_rate=hp.Float('sgd_lr', 1e-4, 1e-1, sampling='log'),\n",
    "            momentum=hp.Float('sgd_momentum', 0.0, 0.99)\n",
    "        )\n",
    "    \n",
    "    model = Model(inputs=input_layer, outputs=prediction)\n",
    "    model.compile(\n",
    "        optimizer=optimizer,\n",
    "        loss='sparse_categorical_crossentropy',\n",
    "        metrics=['accuracy', 'sparse_categorical_accuracy']\n",
    "    )\n",
    "    \n",
    "    return model"
   ]
  },
  {
   "cell_type": "code",
   "execution_count": 9,
   "id": "55b014a5",
   "metadata": {},
   "outputs": [],
   "source": [
    "base_callbacks = [\n",
    "    EarlyStopping(monitor='val_loss', patience=3, restore_best_weights=True),\n",
    "    ReduceLROnPlateau(monitor='val_loss', patience=2, factor=0.5, min_lr=1e-5)\n",
    "]\n",
    "\n",
    "# MLflow tracking callback\n",
    "class MLflowCallback(Callback):\n",
    "    def __init__(self, trial_hyperparameters, trial_id):\n",
    "        super().__init__()\n",
    "        self.trial_id = trial_id\n",
    "        self.trial_hyperparameters = trial_hyperparameters\n",
    "\n",
    "    def on_train_begin(self, logs=None):\n",
    "        self.run =  mlflow.start_run(run_name=f\"{TRIAL_NAME}_{self.trial_id}\", nested=True)\n",
    "\n",
    "        mlflow.log_param('trail_id', self.trial_id)\n",
    "        for param_name, param_value in self.trial_hyperparameters.values.items():\n",
    "            mlflow.log_param(param_name, param_value)\n",
    "\n",
    "\n",
    "    def on_epoch_end(self, epoch, logs=None):\n",
    "        if logs is not None:\n",
    "            for metric_name, value in logs.items():\n",
    "                mlflow.log_metric(metric_name, value, step=epoch)\n",
    "\n",
    "    def on_train_end(self, logs=None):\n",
    "        if self.run:\n",
    "            mlflow.end_run()"
   ]
  },
  {
   "cell_type": "code",
   "execution_count": 10,
   "id": "fa717358",
   "metadata": {},
   "outputs": [],
   "source": [
    "# Subclassed RandomSerach tuner which uses customized MLflow callback\n",
    "class MLflowTuner(BayesianOptimization):\n",
    "    def run_trial(self, trial, *args, **kwargs):\n",
    "        callbacks = base_callbacks + [MLflowCallback(trial.hyperparameters, trial.trial_id)]\n",
    "        kwargs['callbacks'] = callbacks\n",
    "        return super().run_trial(trial, *args, **kwargs)"
   ]
  },
  {
   "cell_type": "code",
   "execution_count": 11,
   "id": "e0b1cbb7",
   "metadata": {},
   "outputs": [
    {
     "name": "stdout",
     "output_type": "stream",
     "text": [
      "Trial 5 Complete [00h 06m 22s]\n",
      "sparse_categorical_accuracy: 0.9470604062080383\n",
      "\n",
      "Best sparse_categorical_accuracy So Far: 0.949543297290802\n",
      "Total elapsed time: 00h 42m 10s\n"
     ]
    },
    {
     "name": "stderr",
     "output_type": "stream",
     "text": [
      "/home/acaia/FingerSpellIT/FingerSpellIT/.fingerspellit/lib/python3.10/site-packages/keras/src/saving/saving_lib.py:802: UserWarning: Skipping variable loading for optimizer 'SGD', because it has 2 variables whereas the saved optimizer has 14 variables. \n",
      "  saveable.load_own_variables(weights_store.get(inner_path))\n"
     ]
    },
    {
     "name": "stdout",
     "output_type": "stream",
     "text": [
      "🏃 View run Main Tunining Run: Augmented Landmark Model  at: https://dagshub.com/alfoCaiazza/FingerSpellIT.mlflow/#/experiments/0/runs/f3af42dd94c040a18d01c74425aa41d2\n",
      "🧪 View experiment at: https://dagshub.com/alfoCaiazza/FingerSpellIT.mlflow/#/experiments/0\n"
     ]
    }
   ],
   "source": [
    "with mlflow.start_run(run_name=f\"{MLFLOW_MAIN_RUN}\"):\n",
    "    epochs = 50\n",
    "\n",
    "    mlflow.set_tag(\"stage\", \"hyperparameter_tuning\")\n",
    "    mlflow.set_tag(\"model_architecture\", \"ResNet50\")\n",
    "    mlflow.log_param('epochs', epochs)\n",
    "\n",
    "    tuner = MLflowTuner(\n",
    "        build_model,\n",
    "        objective='sparse_categorical_accuracy',\n",
    "        max_trials=5,\n",
    "        executions_per_trial=1,\n",
    "        directory=f'{TUNER_DIRECTORY}',\n",
    "        project_name=f'{TUNER_PROJECT_NAME}'\n",
    "    )\n",
    "    \n",
    "    tuner.search(\n",
    "        X_train, y_train,\n",
    "        validation_data=(X_val, y_val),\n",
    "        epochs=epochs\n",
    "    )\n",
    "\n",
    "    best_model = tuner.get_best_models(num_models=1)[0]\n",
    "    best_hps = tuner.get_best_hyperparameters(num_trials=1)[0]\n",
    "    best_trial = tuner.oracle.get_best_trials(num_trials=1)[0]\n",
    "\n",
    "    for param, value in best_hps.values.items():\n",
    "        mlflow.log_param(param, value)\n",
    "\n",
    "    # Log metriche finali del trial\n",
    "    for metric_name, metric_data in best_trial.metrics.metrics.items():\n",
    "        if metric_data and isinstance(metric_data, dict):\n",
    "            values = metric_data.get('value', [])\n",
    "            if values:\n",
    "                mlflow.log_metric(metric_name, values[-1])\n",
    "\n",
    "    # Log best score\n",
    "    mlflow.log_metric(\"best_sparse_categorical_accuracy\", best_trial.score)\n",
    "\n",
    "    # Salving the model\n",
    "    model_path = f\"../models/{MODEL_NAME}.keras\"\n",
    "    best_model.save(model_path)\n",
    "    mlflow.log_artifact(model_path)\n",
    "\n",
    "mlflow.end_run()"
   ]
  },
  {
   "cell_type": "code",
   "execution_count": 12,
   "id": "9bb3f427",
   "metadata": {},
   "outputs": [
    {
     "name": "stdout",
     "output_type": "stream",
     "text": [
      "\u001b[1m152/152\u001b[0m \u001b[32m━━━━━━━━━━━━━━━━━━━━\u001b[0m\u001b[37m\u001b[0m \u001b[1m2s\u001b[0m 8ms/step - accuracy: 0.9767 - loss: 0.0735 - sparse_categorical_accuracy: 0.9767\n",
      "Evaluation results: [0.08032340556383133, 0.9743430614471436, 0.9743430614471436]\n",
      "\u001b[1m152/152\u001b[0m \u001b[32m━━━━━━━━━━━━━━━━━━━━\u001b[0m\u001b[37m\u001b[0m \u001b[1m2s\u001b[0m 6ms/step\n"
     ]
    }
   ],
   "source": [
    "results = best_model.evaluate(X_test, y_test)\n",
    "print(\"Evaluation results:\", results)\n",
    "\n",
    "y_pred_probs = best_model.predict(X_test)\n",
    "y_pred = np.argmax(y_pred_probs, axis=1)\n",
    "\n",
    "y_true = np.array(y_test)"
   ]
  },
  {
   "cell_type": "code",
   "execution_count": 13,
   "id": "e738618a",
   "metadata": {},
   "outputs": [
    {
     "name": "stdout",
     "output_type": "stream",
     "text": [
      "Classification Report {\n",
      "    \"a\": {\n",
      "        \"precision\": 0.9945054945054945,\n",
      "        \"recall\": 0.9945054945054945,\n",
      "        \"f1-score\": 0.9945054945054945,\n",
      "        \"support\": 182.0\n",
      "    },\n",
      "    \"b\": {\n",
      "        \"precision\": 0.8410596026490066,\n",
      "        \"recall\": 0.9694656488549618,\n",
      "        \"f1-score\": 0.900709219858156,\n",
      "        \"support\": 131.0\n",
      "    },\n",
      "    \"c\": {\n",
      "        \"precision\": 0.9625668449197861,\n",
      "        \"recall\": 0.994475138121547,\n",
      "        \"f1-score\": 0.9782608695652174,\n",
      "        \"support\": 181.0\n",
      "    },\n",
      "    \"d\": {\n",
      "        \"precision\": 0.9746835443037974,\n",
      "        \"recall\": 0.9390243902439024,\n",
      "        \"f1-score\": 0.9565217391304348,\n",
      "        \"support\": 164.0\n",
      "    },\n",
      "    \"e\": {\n",
      "        \"precision\": 0.9953703703703703,\n",
      "        \"recall\": 0.9907834101382489,\n",
      "        \"f1-score\": 0.9930715935334873,\n",
      "        \"support\": 217.0\n",
      "    },\n",
      "    \"f\": {\n",
      "        \"precision\": 0.9382716049382716,\n",
      "        \"recall\": 0.8587570621468926,\n",
      "        \"f1-score\": 0.8967551622418879,\n",
      "        \"support\": 177.0\n",
      "    },\n",
      "    \"g\": {\n",
      "        \"precision\": 0.9958847736625515,\n",
      "        \"recall\": 0.9958847736625515,\n",
      "        \"f1-score\": 0.9958847736625515,\n",
      "        \"support\": 243.0\n",
      "    },\n",
      "    \"h\": {\n",
      "        \"precision\": 0.9953917050691244,\n",
      "        \"recall\": 0.9908256880733946,\n",
      "        \"f1-score\": 0.993103448275862,\n",
      "        \"support\": 218.0\n",
      "    },\n",
      "    \"i\": {\n",
      "        \"precision\": 0.9858490566037735,\n",
      "        \"recall\": 0.9766355140186916,\n",
      "        \"f1-score\": 0.9812206572769953,\n",
      "        \"support\": 214.0\n",
      "    },\n",
      "    \"k\": {\n",
      "        \"precision\": 0.990521327014218,\n",
      "        \"recall\": 0.9952380952380953,\n",
      "        \"f1-score\": 0.9928741092636579,\n",
      "        \"support\": 210.0\n",
      "    },\n",
      "    \"l\": {\n",
      "        \"precision\": 1.0,\n",
      "        \"recall\": 1.0,\n",
      "        \"f1-score\": 1.0,\n",
      "        \"support\": 229.0\n",
      "    },\n",
      "    \"m\": {\n",
      "        \"precision\": 0.9081632653061225,\n",
      "        \"recall\": 0.898989898989899,\n",
      "        \"f1-score\": 0.9035532994923858,\n",
      "        \"support\": 198.0\n",
      "    },\n",
      "    \"n\": {\n",
      "        \"precision\": 0.8864864864864865,\n",
      "        \"recall\": 0.9162011173184358,\n",
      "        \"f1-score\": 0.9010989010989011,\n",
      "        \"support\": 179.0\n",
      "    },\n",
      "    \"o\": {\n",
      "        \"precision\": 1.0,\n",
      "        \"recall\": 0.9742268041237113,\n",
      "        \"f1-score\": 0.9869451697127938,\n",
      "        \"support\": 194.0\n",
      "    },\n",
      "    \"p\": {\n",
      "        \"precision\": 0.9666666666666667,\n",
      "        \"recall\": 0.9456521739130435,\n",
      "        \"f1-score\": 0.9560439560439561,\n",
      "        \"support\": 184.0\n",
      "    },\n",
      "    \"q\": {\n",
      "        \"precision\": 0.9753694581280788,\n",
      "        \"recall\": 0.9949748743718593,\n",
      "        \"f1-score\": 0.9850746268656716,\n",
      "        \"support\": 199.0\n",
      "    },\n",
      "    \"r\": {\n",
      "        \"precision\": 0.98,\n",
      "        \"recall\": 0.9560975609756097,\n",
      "        \"f1-score\": 0.9679012345679012,\n",
      "        \"support\": 205.0\n",
      "    },\n",
      "    \"s\": {\n",
      "        \"precision\": 0.9918367346938776,\n",
      "        \"recall\": 1.0,\n",
      "        \"f1-score\": 0.9959016393442623,\n",
      "        \"support\": 243.0\n",
      "    },\n",
      "    \"t\": {\n",
      "        \"precision\": 0.9952153110047847,\n",
      "        \"recall\": 0.9904761904761905,\n",
      "        \"f1-score\": 0.9928400954653938,\n",
      "        \"support\": 210.0\n",
      "    },\n",
      "    \"u\": {\n",
      "        \"precision\": 0.956140350877193,\n",
      "        \"recall\": 0.9775784753363229,\n",
      "        \"f1-score\": 0.9667405764966741,\n",
      "        \"support\": 223.0\n",
      "    },\n",
      "    \"v\": {\n",
      "        \"precision\": 1.0,\n",
      "        \"recall\": 0.9943181818181818,\n",
      "        \"f1-score\": 0.9971509971509972,\n",
      "        \"support\": 176.0\n",
      "    },\n",
      "    \"w\": {\n",
      "        \"precision\": 0.9951690821256038,\n",
      "        \"recall\": 1.0,\n",
      "        \"f1-score\": 0.9975786924939467,\n",
      "        \"support\": 206.0\n",
      "    },\n",
      "    \"x\": {\n",
      "        \"precision\": 0.9908256880733946,\n",
      "        \"recall\": 0.9908256880733946,\n",
      "        \"f1-score\": 0.9908256880733946,\n",
      "        \"support\": 218.0\n",
      "    },\n",
      "    \"y\": {\n",
      "        \"precision\": 1.0,\n",
      "        \"recall\": 0.9913793103448276,\n",
      "        \"f1-score\": 0.9956709956709957,\n",
      "        \"support\": 232.0\n",
      "    },\n",
      "    \"accuracy\": 0.9743430581419408,\n",
      "    \"macro avg\": {\n",
      "        \"precision\": 0.9716657236416083,\n",
      "        \"recall\": 0.9723464787810524,\n",
      "        \"f1-score\": 0.9716763724912925,\n",
      "        \"support\": 4833.0\n",
      "    },\n",
      "    \"weighted avg\": {\n",
      "        \"precision\": 0.9749422281253847,\n",
      "        \"recall\": 0.9743430581419408,\n",
      "        \"f1-score\": 0.9743926465199415,\n",
      "        \"support\": 4833.0\n",
      "    }\n",
      "}\n",
      "🏃 View run Evaluating Augmented Landmark Model at: https://dagshub.com/alfoCaiazza/FingerSpellIT.mlflow/#/experiments/0/runs/8dfc55ce8fce4ecf933629137bacfc31\n",
      "🧪 View experiment at: https://dagshub.com/alfoCaiazza/FingerSpellIT.mlflow/#/experiments/0\n"
     ]
    }
   ],
   "source": [
    "# Parameters configuration\n",
    "output_dir = \"../artifacts/csv_model/augmented\"\n",
    "report_name = REPORT_NAME \n",
    "cm_name = CM_NAME          \n",
    "run_name = EVALUATION_MLFLOW_RUN\n",
    "\n",
    "os.makedirs(output_dir, exist_ok=True)\n",
    "\n",
    "with mlflow.start_run(run_name=run_name):\n",
    "    # Classification report as a JSON file\n",
    "    class_names = label_encoder.classes_.tolist()\n",
    "    report_json_path = os.path.join(output_dir, f\"{report_name}.json\")\n",
    "    report = classification_report(y_true, y_pred, target_names=class_names, output_dict=True)\n",
    "    print(\"Classification Report\", json.dumps(report, indent=4))\n",
    "\n",
    "    with open(report_json_path, \"w\") as f:\n",
    "        json.dump(report, f, indent=4)\n",
    "\n",
    "    # Classification report as a txt file\n",
    "    report_txt_path = os.path.join(output_dir, f\"{report_name}.txt\")\n",
    "    with open(report_txt_path, \"w\") as f:\n",
    "        f.write(classification_report(y_true, y_pred, target_names=class_names))\n",
    "\n",
    "    # Log on MLflow\n",
    "    mlflow.log_artifact(report_json_path, \"evaluation_metrics\")\n",
    "\n",
    "    # Confusion matrix\n",
    "    cm = confusion_matrix(y_true, y_pred)\n",
    "    plt.figure(figsize=(10, 8))\n",
    "    sns.heatmap(cm, annot=True, fmt='d', xticklabels=class_names, yticklabels=class_names)\n",
    "    plt.xlabel('Predicted')\n",
    "    plt.ylabel('True')\n",
    "    plt.title('Confusion Matrix')\n",
    "    plt.tight_layout()\n",
    "\n",
    "    cm_path = os.path.join(output_dir, f\"{cm_name}.png\")\n",
    "    plt.savefig(cm_path, dpi=300, bbox_inches='tight')\n",
    "\n",
    "    # Log dell'immagine su MLflow\n",
    "    mlflow.log_figure(plt.gcf(), f\"evaluation_plots/{cm_name}.png\")\n",
    "    plt.close()\n"
   ]
  }
 ],
 "metadata": {
  "kernelspec": {
   "display_name": ".fingerspellit",
   "language": "python",
   "name": "python3"
  },
  "language_info": {
   "codemirror_mode": {
    "name": "ipython",
    "version": 3
   },
   "file_extension": ".py",
   "mimetype": "text/x-python",
   "name": "python",
   "nbconvert_exporter": "python",
   "pygments_lexer": "ipython3",
   "version": "3.10.12"
  }
 },
 "nbformat": 4,
 "nbformat_minor": 5
}
