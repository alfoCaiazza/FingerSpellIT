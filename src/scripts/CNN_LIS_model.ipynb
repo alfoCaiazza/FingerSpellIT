{
 "cells": [
  {
   "cell_type": "code",
   "execution_count": 3,
   "id": "bc124a64",
   "metadata": {},
   "outputs": [
    {
     "name": "stderr",
     "output_type": "stream",
     "text": [
      "/tmp/ipykernel_8438/977130277.py:17: DeprecationWarning: `import kerastuner` is deprecated, please use `import keras_tuner`.\n",
      "  from kerastuner.tuners import RandomSearch\n"
     ]
    }
   ],
   "source": [
    "import tensorflow as tf\n",
    "import numpy as np\n",
    "import seaborn as sns\n",
    "import mlflow\n",
    "import dagshub\n",
    "import json\n",
    "import os\n",
    "import keras\n",
    "import matplotlib.pyplot as plt\n",
    "from dagshub import dagshub_logger\n",
    "from tensorflow.keras.applications import ResNet50\n",
    "from tensorflow.keras.layers import GlobalAveragePooling2D, Dense, Dropout\n",
    "from tensorflow.keras.models import Model\n",
    "from tensorflow.keras.optimizers import Adam, RMSprop, SGD\n",
    "from tensorflow.keras.callbacks import Callback, EarlyStopping, ReduceLROnPlateau\n",
    "from sklearn.metrics import confusion_matrix, classification_report\n",
    "from kerastuner.tuners import RandomSearch"
   ]
  },
  {
   "cell_type": "code",
   "execution_count": 4,
   "id": "feb401c4",
   "metadata": {},
   "outputs": [],
   "source": [
    "# Defining mlflow experiment parameter\n",
    "TRIAL_NAME = \"trial_\"\n",
    "MLFLOW_MAIN_RUN = \"Main Tunining Run: In-Vitro Image Model \"\n",
    "TUNER_DIRECTORY = \"logs/tuner\"\n",
    "TUNER_PROJECT_NAME = \"FingerSpellIT - In-Vitro Image Model\"\n",
    "MODEL_NAME = \"invitro_image_model_v1\"\n",
    "EVALUATION_MLFLOW_RUN = \"Evaluating In-Vitro Image Model\"\n",
    "REPORT_NAME = \"invitro_image_model_classification_report\"\n",
    "CM_NAME=\"invitro_image_model_confusion_matrix_best_model\""
   ]
  },
  {
   "cell_type": "code",
   "execution_count": 5,
   "id": "c512d052",
   "metadata": {},
   "outputs": [
    {
     "data": {
      "text/html": [
       "<pre style=\"white-space:pre;overflow-x:auto;line-height:normal;font-family:Menlo,'DejaVu Sans Mono',consolas,'Courier New',monospace\">Accessing as alfoCaiazza\n",
       "</pre>\n"
      ],
      "text/plain": [
       "Accessing as alfoCaiazza\n"
      ]
     },
     "metadata": {},
     "output_type": "display_data"
    },
    {
     "data": {
      "text/html": [
       "<pre style=\"white-space:pre;overflow-x:auto;line-height:normal;font-family:Menlo,'DejaVu Sans Mono',consolas,'Courier New',monospace\">Initialized MLflow to track repo <span style=\"color: #008000; text-decoration-color: #008000\">\"alfoCaiazza/FingerSpellIT\"</span>\n",
       "</pre>\n"
      ],
      "text/plain": [
       "Initialized MLflow to track repo \u001b[32m\"alfoCaiazza/FingerSpellIT\"\u001b[0m\n"
      ]
     },
     "metadata": {},
     "output_type": "display_data"
    },
    {
     "data": {
      "text/html": [
       "<pre style=\"white-space:pre;overflow-x:auto;line-height:normal;font-family:Menlo,'DejaVu Sans Mono',consolas,'Courier New',monospace\">Repository alfoCaiazza/FingerSpellIT initialized!\n",
       "</pre>\n"
      ],
      "text/plain": [
       "Repository alfoCaiazza/FingerSpellIT initialized!\n"
      ]
     },
     "metadata": {},
     "output_type": "display_data"
    }
   ],
   "source": [
    "# Dagshub Initialization\n",
    "mlflow.set_tracking_uri(\"https://dagshub.com/alfoCaiazza/FingerSpellIT.mlflow\")\n",
    "\n",
    "dagshub.init(repo_owner=\"alfoCaiazza\", repo_name=\"FingerSpellIT\", mlflow=True)\n",
    "dagshub_log = dagshub_logger(metrics_path=\"metrics\", hparams_path=\"params\")"
   ]
  },
  {
   "cell_type": "code",
   "execution_count": 6,
   "id": "889e1d38",
   "metadata": {},
   "outputs": [
    {
     "name": "stdout",
     "output_type": "stream",
     "text": [
      "GPU: PhysicalDevice(name='/physical_device:GPU:0', device_type='GPU')\n"
     ]
    }
   ],
   "source": [
    "# To avoid OOM errors, setting GPU Memory Consuption Growth\n",
    "gpus = tf.config.experimental.list_physical_devices('GPU')\n",
    "for gpu in gpus:\n",
    "    print(f\"GPU: {gpu}\")\n",
    "    tf.config.experimental.set_memory_growth(gpu, True) # Keeping the use of memory limited to prevent errors"
   ]
  },
  {
   "cell_type": "code",
   "execution_count": 7,
   "id": "4a88044f",
   "metadata": {},
   "outputs": [
    {
     "name": "stdout",
     "output_type": "stream",
     "text": [
      "Found 5654 files belonging to 24 classes.\n"
     ]
    },
    {
     "name": "stderr",
     "output_type": "stream",
     "text": [
      "I0000 00:00:1748331858.492661    8438 gpu_device.cc:2019] Created device /job:localhost/replica:0/task:0/device:GPU:0 with 1753 MB memory:  -> device: 0, name: NVIDIA GeForce RTX 3050 Ti Laptop GPU, pci bus id: 0000:01:00.0, compute capability: 8.6\n"
     ]
    },
    {
     "name": "stdout",
     "output_type": "stream",
     "text": [
      "Found 719 files belonging to 24 classes.\n",
      "Found 705 files belonging to 24 classes.\n"
     ]
    }
   ],
   "source": [
    "train_dir = '../data/raw_imgs/splits/train'\n",
    "test_dir = '../data/raw_imgs/splits/test'\n",
    "val_dir = '../data/raw_imgs/splits/val'\n",
    "\n",
    "# Creating dataset with keras method\n",
    "train_ds = tf.keras.utils.image_dataset_from_directory(\n",
    "    train_dir,\n",
    "    image_size=(224,224),\n",
    "    batch_size=32,\n",
    "    shuffle=True,\n",
    "    seed=123\n",
    ")\n",
    "\n",
    "class_names = train_ds.class_names\n",
    "\n",
    "test_ds = tf.keras.utils.image_dataset_from_directory(\n",
    "    test_dir,\n",
    "    image_size=(224,224),\n",
    "    batch_size=32,\n",
    "    shuffle=True,\n",
    "    seed=123\n",
    ")\n",
    "\n",
    "val_ds = tf.keras.utils.image_dataset_from_directory(\n",
    "    val_dir,\n",
    "    image_size=(224,224),\n",
    "    batch_size=32,\n",
    "    shuffle=True,\n",
    "    seed=123\n",
    ")\n",
    "\n"
   ]
  },
  {
   "cell_type": "code",
   "execution_count": 8,
   "id": "f1543590",
   "metadata": {},
   "outputs": [],
   "source": [
    "# Pre-processing sequential model\n",
    "# Normalizing the images for ResNet50 model (0,1)\n",
    "normalization = tf.keras.layers.Rescaling(1./255)\n",
    "\n",
    "train_ds  = train_ds.map(lambda x, y: (normalization(x), y))\n",
    "val_ds = val_ds.map(lambda x, y: (normalization(x), y))\n",
    "test_ds = test_ds.map(lambda x, y: (normalization(x), y))"
   ]
  },
  {
   "cell_type": "code",
   "execution_count": 9,
   "id": "6bf81783",
   "metadata": {},
   "outputs": [],
   "source": [
    "# Handling data batch size automatically \n",
    "AUTOTUNE = tf.data.AUTOTUNE\n",
    "\n",
    "train_ds= train_ds.prefetch(buffer_size=AUTOTUNE)\n",
    "val_ds= val_ds.prefetch(buffer_size=AUTOTUNE)\n",
    "test_ds = test_ds.prefetch(buffer_size=AUTOTUNE)"
   ]
  },
  {
   "cell_type": "code",
   "execution_count": 10,
   "id": "61230211",
   "metadata": {},
   "outputs": [],
   "source": [
    "#Building parametrized ResNet50 Transfer Learning Model\n",
    "def build_model(hp):\n",
    "    base_model = ResNet50(\n",
    "        weights='imagenet',\n",
    "        include_top=False,\n",
    "        input_shape=(224,224,3)\n",
    "    )\n",
    "\n",
    "    # Unfreezing last layers\n",
    "    base_model.trainable = True\n",
    "    for layer in base_model.layers[:-30]:\n",
    "        layer.trainable = False\n",
    "\n",
    "    activation = hp.Choice('activation', ['relu', 'sigmoid', 'tanh'])\n",
    "\n",
    "    # Building output layers\n",
    "    x = GlobalAveragePooling2D()(base_model.output)\n",
    "    for i in range(hp.Int('num_dense_layers', 1, 3)):\n",
    "        x = Dense(hp.Int('num_units', 128, 512, step=128))(x)\n",
    "        x = Dropout(hp.Float('dropout_rate', 0.2, 0.5))(x)\n",
    "\n",
    "    predictions = Dense(24, activation='softmax')(x)\n",
    "\n",
    "    model = Model(inputs=base_model.input, outputs=predictions)\n",
    "\n",
    "    # Parametrizing optimizers\n",
    "    optimizer_name = hp.Choice('optimizer', ['Adam', 'RMSprop', 'SGD'])\n",
    "\n",
    "    if optimizer_name == 'Adam':\n",
    "        optimizer = Adam(\n",
    "            learning_rate = hp.Float('adam_lr', min_value=1e-5, max_value=1e-2, sampling='log')\n",
    "    )\n",
    "    elif optimizer_name == 'RMSprop':\n",
    "        optimizer = RMSprop(\n",
    "               learning_rate = hp.Float('rmsprop_lr', min_value=1e-5, max_value=1e-2, sampling='log'),\n",
    "               rho = hp.Float('rmsprop_rho', min_value=0.8, max_value=0.99)\n",
    "    )\n",
    "    elif optimizer_name == 'SGD':\n",
    "            optimizer = SGD(\n",
    "                learning_rate=hp.Float('sgd_lr', min_value=1e-4, max_value=1e-2, sampling='log'),\n",
    "                momentum=hp.Float('sgd_momentum', min_value=0.0, max_value=0.99)\n",
    "    )\n",
    "            \n",
    "    model.compile(\n",
    "        optimizer=optimizer,\n",
    "        loss='sparse_categorical_crossentropy',\n",
    "        metrics = ['sparse_categorical_accuracy']\n",
    "    )"
   ]
  },
  {
   "cell_type": "code",
   "execution_count": 11,
   "id": "53cefd3c",
   "metadata": {},
   "outputs": [],
   "source": [
    "base_callbacks = [\n",
    "    EarlyStopping(monitor='val_loss', patience=3, restore_best_weights=True),\n",
    "    ReduceLROnPlateau(monitor='val_loss', patience=3, factor=0.5, min_lr=1e-5)\n",
    "]\n",
    "\n",
    "# Tracking MLflow Callback\n",
    "class MLflowCallback(Callback):\n",
    "    def __init__(self, trial_hyperparameters, trial_id):\n",
    "        super().__init__()\n",
    "        self.trial_id = trial_id\n",
    "        self.trial_hyperparameters =trial_hyperparameters\n",
    "\n",
    "    def on_train_begin(self, logs=None):\n",
    "        self.run = mlflow.start_run(run_name=f\"{TRIAL_NAME}_{self.trial_id}\", nested=True)\n",
    "\n",
    "        # Tracks trial parameters\n",
    "        mlflow.log_param('trial_id', self.trial_id)\n",
    "        for param_name, param_value in self.trial_hyperparameters.values.items():\n",
    "            mlflow.log_param(param_name, param_value)\n",
    "\n",
    "    # Tracks trial metrics\n",
    "    def on_epoch_end(self, epoch, logs=None):\n",
    "        if logs is not None:\n",
    "            for metric_name, value in logs.items():\n",
    "                mlflow.log_metric(metric_name, value, step=epoch)\n",
    "\n",
    "    # Close trial mlrun \n",
    "    def on_train_end(self, logs=None):\n",
    "        if self.run:\n",
    "            mlflow.end_run()\n",
    "\n"
   ]
  },
  {
   "cell_type": "code",
   "execution_count": 12,
   "id": "5efef5fa",
   "metadata": {},
   "outputs": [],
   "source": [
    "# Sublassed RandomSearch Tuner that implements MLflow tracking\n",
    "class MLflowTuner(RandomSearch):\n",
    "    def run_trial(self, trial, *args, **kwargs):\n",
    "        callbacks = base_callbacks + [MLflowCallback(trial.hyperparameters, trial.trial_id)]\n",
    "        kwargs['callbacks'] = callbacks\n",
    "\n",
    "        return super().run_trial(trial, *args, **kwargs)"
   ]
  },
  {
   "cell_type": "code",
   "execution_count": null,
   "id": "1342a7b7",
   "metadata": {},
   "outputs": [],
   "source": [
    "with mlflow.start_run(run_name=f\"{MLFLOW_MAIN_RUN}\"):\n",
    "    epochs = 50\n",
    "\n",
    "    mlflow.set_tag(\"stage\", \"hyperparameter_tuning\")\n",
    "    mlflow.set_tag(\"model_architecture\", \"ResNet50\")\n",
    "    mlflow.log_param('epochs', epochs)\n",
    "\n",
    "    tuner = MLflowTuner(\n",
    "        build_model,\n",
    "        objective='sparse_categorical_accuracy',\n",
    "        max_trials=1,\n",
    "        executions_per_trial=1,\n",
    "        directory=f'{TUNER_DIRECTORY}',\n",
    "        project_name=f'{TUNER_PROJECT_NAME}'\n",
    "    )\n",
    "    \n",
    "    tuner.search(\n",
    "        train_ds,\n",
    "        validation_data=val_ds,\n",
    "        epochs=epochs\n",
    "    )\n",
    "\n",
    "    best_model = tuner.get_best_models(num_models=1)[0]\n",
    "    best_hps = tuner.get_best_hyperparameters(num_trials=1)[0]\n",
    "    best_trial = tuner.oracle.get_best_trials(num_trials=1)[0]\n",
    "\n",
    "    for param, value in best_hps.values.items():\n",
    "        mlflow.log_param(param, value)\n",
    "\n",
    "    # Log metriche finali del trial\n",
    "    for metric_name, metric_data in best_trial.metrics.metrics.items():\n",
    "        if metric_data and isinstance(metric_data, dict):\n",
    "            values = metric_data.get('value', [])\n",
    "            if values:\n",
    "                mlflow.log_metric(metric_name, values[-1])\n",
    "\n",
    "    # Log best score\n",
    "    mlflow.log_metric(\"best_sparse_categorical_accuracy\", best_trial.score)\n",
    "\n",
    "    # Salving the model\n",
    "    model_path = f\"../model/{MODEL_NAME}.h5\"\n",
    "    best_model.save(model_path)\n",
    "    mlflow.log_artifact(model_path)\n",
    "    mlflow.tensorflow.log_model(best_model, \"model\")\n",
    "\n",
    "    # Log hyperparameters space and model structure\n",
    "    mlflow.log_dict(best_hps.get_config(), \"search_space.json\")\n",
    "    with open(\"model_structure.json\", \"w\") as f:\n",
    "        f.write(best_model.to_json())\n",
    "    mlflow.log_artifact(\"model_structure.json\")\n",
    "\n",
    "\n",
    "mlflow.end_run()"
   ]
  },
  {
   "cell_type": "code",
   "execution_count": null,
   "id": "857999e8",
   "metadata": {},
   "outputs": [],
   "source": [
    "test_loss, test_acc = best_model.evaluate(test_ds)\n",
    "print(f\"Evaluation accuracy: {test_acc:.3f}\")\n",
    "\n",
    "y_true, y_pred = [], []\n",
    "\n",
    "for images, labels in test_ds:\n",
    "    y_true.extend(labels.numpy())\n",
    "    y_pred.extend(np.argmax(best_model.predict(images), axis=1))\n",
    "\n",
    "y_true = np.array(y_true)\n",
    "y_pred = np.array(y_pred)"
   ]
  },
  {
   "cell_type": "code",
   "execution_count": null,
   "id": "68e9356d",
   "metadata": {},
   "outputs": [],
   "source": [
    "with mlflow.start_run(run_name=f\"{EVALUATION_MLFLOW_RUN}\"):\n",
    "    report_path =f'../artifacts/{REPORT_NAME}.json'\n",
    "    report = classification_report(y_true, y_pred, target_names=class_names, output_dict=True)\n",
    "    print(\"Classification Report\", json.dumps(report, indent=4))\n",
    "\n",
    "    with open(report_path, \"w\") as f:\n",
    "        json.dump(report, f, indent=4)\n",
    "\n",
    "    with open(f\"../artifacts/{REPORT_NAME}.txt\", \"w\") as f:\n",
    "        f.write(classification_report(y_true, y_pred, target_names=class_names))\n",
    "\n",
    "    mlflow.log_artifact(report_path, \"evaluation_metrics\")\n",
    "\n",
    "    cm = confusion_matrix(y_true, y_pred)\n",
    "    plt.figure(figsize=(10, 8))\n",
    "    sns.heatmap(cm, annot=True, fmt='d', xticklabels=class_names, yticklabels=class_names)\n",
    "    plt.xlabel('Predicted')\n",
    "    plt.ylabel('True')\n",
    "    plt.title('Confusion Matrix')\n",
    "    plt.tight_layout()\n",
    "\n",
    "    cm_local_path = os.path.join(\"../artifacts\", f\"{CM_NAME}.png\")\n",
    "    plt.savefig(cm_local_path, dpi=300, bbox_inches='tight')\n",
    "    \n",
    "    mlflow.log_figure(plt.gcf(), f\"evaluation_plots/{CM_NAME}.png\")\n",
    "\n",
    "    plt.close()\n"
   ]
  }
 ],
 "metadata": {
  "kernelspec": {
   "display_name": ".fingerspellit",
   "language": "python",
   "name": "python3"
  },
  "language_info": {
   "codemirror_mode": {
    "name": "ipython",
    "version": 3
   },
   "file_extension": ".py",
   "mimetype": "text/x-python",
   "name": "python",
   "nbconvert_exporter": "python",
   "pygments_lexer": "ipython3",
   "version": "3.10.12"
  }
 },
 "nbformat": 4,
 "nbformat_minor": 5
}
