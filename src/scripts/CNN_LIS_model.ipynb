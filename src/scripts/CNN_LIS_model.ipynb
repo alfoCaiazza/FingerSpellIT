{
 "cells": [
  {
   "cell_type": "code",
   "execution_count": 1,
   "id": "bc124a64",
   "metadata": {},
   "outputs": [
    {
     "name": "stderr",
     "output_type": "stream",
     "text": [
      "2025-05-27 10:32:04.262733: I tensorflow/core/util/port.cc:153] oneDNN custom operations are on. You may see slightly different numerical results due to floating-point round-off errors from different computation orders. To turn them off, set the environment variable `TF_ENABLE_ONEDNN_OPTS=0`.\n",
      "2025-05-27 10:32:04.283945: E external/local_xla/xla/stream_executor/cuda/cuda_fft.cc:467] Unable to register cuFFT factory: Attempting to register factory for plugin cuFFT when one has already been registered\n",
      "WARNING: All log messages before absl::InitializeLog() is called are written to STDERR\n",
      "E0000 00:00:1748334724.304167   30715 cuda_dnn.cc:8579] Unable to register cuDNN factory: Attempting to register factory for plugin cuDNN when one has already been registered\n",
      "E0000 00:00:1748334724.310042   30715 cuda_blas.cc:1407] Unable to register cuBLAS factory: Attempting to register factory for plugin cuBLAS when one has already been registered\n",
      "W0000 00:00:1748334724.330746   30715 computation_placer.cc:177] computation placer already registered. Please check linkage and avoid linking the same target more than once.\n",
      "W0000 00:00:1748334724.330784   30715 computation_placer.cc:177] computation placer already registered. Please check linkage and avoid linking the same target more than once.\n",
      "W0000 00:00:1748334724.330787   30715 computation_placer.cc:177] computation placer already registered. Please check linkage and avoid linking the same target more than once.\n",
      "W0000 00:00:1748334724.330788   30715 computation_placer.cc:177] computation placer already registered. Please check linkage and avoid linking the same target more than once.\n",
      "2025-05-27 10:32:04.339485: I tensorflow/core/platform/cpu_feature_guard.cc:210] This TensorFlow binary is optimized to use available CPU instructions in performance-critical operations.\n",
      "To enable the following instructions: AVX2 AVX_VNNI FMA, in other operations, rebuild TensorFlow with the appropriate compiler flags.\n",
      "/tmp/ipykernel_30715/977130277.py:17: DeprecationWarning: `import kerastuner` is deprecated, please use `import keras_tuner`.\n",
      "  from kerastuner.tuners import RandomSearch\n"
     ]
    }
   ],
   "source": [
    "import tensorflow as tf\n",
    "import numpy as np\n",
    "import seaborn as sns\n",
    "import mlflow\n",
    "import dagshub\n",
    "import json\n",
    "import os\n",
    "import keras\n",
    "import matplotlib.pyplot as plt\n",
    "from dagshub import dagshub_logger\n",
    "from tensorflow.keras.applications import ResNet50\n",
    "from tensorflow.keras.layers import GlobalAveragePooling2D, Dense, Dropout\n",
    "from tensorflow.keras.models import Model\n",
    "from tensorflow.keras.optimizers import Adam, RMSprop, SGD\n",
    "from tensorflow.keras.callbacks import Callback, EarlyStopping, ReduceLROnPlateau\n",
    "from sklearn.metrics import confusion_matrix, classification_report\n",
    "from kerastuner.tuners import RandomSearch"
   ]
  },
  {
   "cell_type": "code",
   "execution_count": 2,
   "id": "feb401c4",
   "metadata": {},
   "outputs": [],
   "source": [
    "# Defining mlflow experiment parameter\n",
    "TRIAL_NAME = \"trial_\"\n",
    "MLFLOW_MAIN_RUN = \"Main Tunining Run: In-Vitro Image Model \"\n",
    "TUNER_DIRECTORY = \"logs/tuner\"\n",
    "TUNER_PROJECT_NAME = \"FingerSpellIT - In-Vitro Image Model\"\n",
    "MODEL_NAME = \"invitro_image_model_v1\"\n",
    "EVALUATION_MLFLOW_RUN = \"Evaluating In-Vitro Image Model\"\n",
    "REPORT_NAME = \"invitro_image_model_classification_report\"\n",
    "CM_NAME=\"invitro_image_model_confusion_matrix_best_model\""
   ]
  },
  {
   "cell_type": "code",
   "execution_count": 3,
   "id": "c512d052",
   "metadata": {},
   "outputs": [
    {
     "data": {
      "text/html": [
       "<pre style=\"white-space:pre;overflow-x:auto;line-height:normal;font-family:Menlo,'DejaVu Sans Mono',consolas,'Courier New',monospace\">Accessing as alfoCaiazza\n",
       "</pre>\n"
      ],
      "text/plain": [
       "Accessing as alfoCaiazza\n"
      ]
     },
     "metadata": {},
     "output_type": "display_data"
    },
    {
     "data": {
      "text/html": [
       "<pre style=\"white-space:pre;overflow-x:auto;line-height:normal;font-family:Menlo,'DejaVu Sans Mono',consolas,'Courier New',monospace\">Initialized MLflow to track repo <span style=\"color: #008000; text-decoration-color: #008000\">\"alfoCaiazza/FingerSpellIT\"</span>\n",
       "</pre>\n"
      ],
      "text/plain": [
       "Initialized MLflow to track repo \u001b[32m\"alfoCaiazza/FingerSpellIT\"\u001b[0m\n"
      ]
     },
     "metadata": {},
     "output_type": "display_data"
    },
    {
     "data": {
      "text/html": [
       "<pre style=\"white-space:pre;overflow-x:auto;line-height:normal;font-family:Menlo,'DejaVu Sans Mono',consolas,'Courier New',monospace\">Repository alfoCaiazza/FingerSpellIT initialized!\n",
       "</pre>\n"
      ],
      "text/plain": [
       "Repository alfoCaiazza/FingerSpellIT initialized!\n"
      ]
     },
     "metadata": {},
     "output_type": "display_data"
    }
   ],
   "source": [
    "# Dagshub Initialization\n",
    "mlflow.set_tracking_uri(\"https://dagshub.com/alfoCaiazza/FingerSpellIT.mlflow\")\n",
    "\n",
    "dagshub.init(repo_owner=\"alfoCaiazza\", repo_name=\"FingerSpellIT\", mlflow=True)\n",
    "dagshub_log = dagshub_logger(metrics_path=\"metrics\", hparams_path=\"params\")"
   ]
  },
  {
   "cell_type": "code",
   "execution_count": 4,
   "id": "889e1d38",
   "metadata": {},
   "outputs": [
    {
     "name": "stdout",
     "output_type": "stream",
     "text": [
      "GPU: PhysicalDevice(name='/physical_device:GPU:0', device_type='GPU')\n"
     ]
    }
   ],
   "source": [
    "# To avoid OOM errors, setting GPU Memory Consuption Growth\n",
    "gpus = tf.config.experimental.list_physical_devices('GPU')\n",
    "for gpu in gpus:\n",
    "    print(f\"GPU: {gpu}\")\n",
    "    tf.config.experimental.set_memory_growth(gpu, True) # Keeping the use of memory limited to prevent errors"
   ]
  },
  {
   "cell_type": "code",
   "execution_count": 5,
   "id": "4a88044f",
   "metadata": {},
   "outputs": [
    {
     "name": "stdout",
     "output_type": "stream",
     "text": [
      "Found 5654 files belonging to 24 classes.\n"
     ]
    },
    {
     "name": "stderr",
     "output_type": "stream",
     "text": [
      "I0000 00:00:1748334729.846853   30715 gpu_device.cc:2019] Created device /job:localhost/replica:0/task:0/device:GPU:0 with 1753 MB memory:  -> device: 0, name: NVIDIA GeForce RTX 3050 Ti Laptop GPU, pci bus id: 0000:01:00.0, compute capability: 8.6\n"
     ]
    },
    {
     "name": "stdout",
     "output_type": "stream",
     "text": [
      "Found 719 files belonging to 24 classes.\n",
      "Found 705 files belonging to 24 classes.\n"
     ]
    }
   ],
   "source": [
    "train_dir = '../data/raw_imgs/splits/train'\n",
    "test_dir = '../data/raw_imgs/splits/test'\n",
    "val_dir = '../data/raw_imgs/splits/val'\n",
    "\n",
    "# Creating dataset with keras method\n",
    "train_ds = tf.keras.utils.image_dataset_from_directory(\n",
    "    train_dir,\n",
    "    image_size=(224,224),\n",
    "    batch_size=32,\n",
    "    shuffle=True,\n",
    "    seed=123\n",
    ")\n",
    "\n",
    "class_names = train_ds.class_names\n",
    "\n",
    "test_ds = tf.keras.utils.image_dataset_from_directory(\n",
    "    test_dir,\n",
    "    image_size=(224,224),\n",
    "    batch_size=32,\n",
    "    shuffle=True,\n",
    "    seed=123\n",
    ")\n",
    "\n",
    "val_ds = tf.keras.utils.image_dataset_from_directory(\n",
    "    val_dir,\n",
    "    image_size=(224,224),\n",
    "    batch_size=32,\n",
    "    shuffle=True,\n",
    "    seed=123\n",
    ")\n",
    "\n"
   ]
  },
  {
   "cell_type": "code",
   "execution_count": 6,
   "id": "f1543590",
   "metadata": {},
   "outputs": [],
   "source": [
    "# Pre-processing sequential model\n",
    "# Normalizing the images for ResNet50 model (0,1)\n",
    "normalization = tf.keras.layers.Rescaling(1./255)\n",
    "\n",
    "train_ds  = train_ds.map(lambda x, y: (normalization(x), y))\n",
    "val_ds = val_ds.map(lambda x, y: (normalization(x), y))\n",
    "test_ds = test_ds.map(lambda x, y: (normalization(x), y))"
   ]
  },
  {
   "cell_type": "code",
   "execution_count": 7,
   "id": "6bf81783",
   "metadata": {},
   "outputs": [],
   "source": [
    "# Handling data batch size automatically \n",
    "AUTOTUNE = tf.data.AUTOTUNE\n",
    "\n",
    "train_ds= train_ds.prefetch(buffer_size=AUTOTUNE)\n",
    "val_ds= val_ds.prefetch(buffer_size=AUTOTUNE)\n",
    "test_ds = test_ds.prefetch(buffer_size=AUTOTUNE)"
   ]
  },
  {
   "cell_type": "code",
   "execution_count": 8,
   "id": "61230211",
   "metadata": {},
   "outputs": [],
   "source": [
    "#Building parametrized ResNet50 Transfer Learning Model\n",
    "def build_model(hp):\n",
    "    base_model = ResNet50(\n",
    "        weights='imagenet',\n",
    "        include_top=False,\n",
    "        input_shape=(224,224,3)\n",
    "    )\n",
    "\n",
    "    # Unfreezing last layers\n",
    "    base_model.trainable = True\n",
    "    for layer in base_model.layers[:-30]:\n",
    "        layer.trainable = False\n",
    "\n",
    "    activation = hp.Choice('activation', ['relu', 'sigmoid', 'tanh'])\n",
    "\n",
    "    # Building output layers\n",
    "    x = GlobalAveragePooling2D()(base_model.output)\n",
    "    for i in range(hp.Int('num_dense_layers', 1, 3)):\n",
    "        x = Dense(hp.Int('num_units', 128, 512, step=128))(x)\n",
    "        x = Dropout(hp.Float('dropout_rate', 0.2, 0.5))(x)\n",
    "\n",
    "    predictions = Dense(24, activation='softmax')(x)\n",
    "\n",
    "    model = Model(inputs=base_model.input, outputs=predictions)\n",
    "\n",
    "    # Parametrizing optimizers\n",
    "    optimizer_name = hp.Choice('optimizer', ['Adam', 'RMSprop', 'SGD'])\n",
    "\n",
    "    if optimizer_name == 'Adam':\n",
    "        optimizer = Adam(\n",
    "            learning_rate = hp.Float('adam_lr', min_value=1e-5, max_value=1e-2, sampling='log')\n",
    "    )\n",
    "    elif optimizer_name == 'RMSprop':\n",
    "        optimizer = RMSprop(\n",
    "               learning_rate = hp.Float('rmsprop_lr', min_value=1e-5, max_value=1e-2, sampling='log'),\n",
    "               rho = hp.Float('rmsprop_rho', min_value=0.8, max_value=0.99)\n",
    "    )\n",
    "    elif optimizer_name == 'SGD':\n",
    "            optimizer = SGD(\n",
    "                learning_rate=hp.Float('sgd_lr', min_value=1e-4, max_value=1e-2, sampling='log'),\n",
    "                momentum=hp.Float('sgd_momentum', min_value=0.0, max_value=0.99)\n",
    "    )\n",
    "            \n",
    "    model.compile(\n",
    "        optimizer=optimizer,\n",
    "        loss='sparse_categorical_crossentropy',\n",
    "        metrics = ['sparse_categorical_accuracy']\n",
    "    )\n",
    "\n",
    "    return model"
   ]
  },
  {
   "cell_type": "code",
   "execution_count": 9,
   "id": "53cefd3c",
   "metadata": {},
   "outputs": [],
   "source": [
    "base_callbacks = [\n",
    "    EarlyStopping(monitor='val_loss', patience=3, restore_best_weights=True),\n",
    "    ReduceLROnPlateau(monitor='val_loss', patience=3, factor=0.5, min_lr=1e-5)\n",
    "]\n",
    "\n",
    "# Tracking MLflow Callback\n",
    "class MLflowCallback(Callback):\n",
    "    def __init__(self, trial_hyperparameters, trial_id):\n",
    "        super().__init__()\n",
    "        self.trial_id = trial_id\n",
    "        self.trial_hyperparameters =trial_hyperparameters\n",
    "\n",
    "    def on_train_begin(self, logs=None):\n",
    "        self.run = mlflow.start_run(run_name=f\"{TRIAL_NAME}_{self.trial_id}\", nested=True)\n",
    "\n",
    "        # Tracks trial parameters\n",
    "        mlflow.log_param('trial_id', self.trial_id)\n",
    "        for param_name, param_value in self.trial_hyperparameters.values.items():\n",
    "            mlflow.log_param(param_name, param_value)\n",
    "\n",
    "    # Tracks trial metrics\n",
    "    def on_epoch_end(self, epoch, logs=None):\n",
    "        if logs is not None:\n",
    "            for metric_name, value in logs.items():\n",
    "                mlflow.log_metric(metric_name, value, step=epoch)\n",
    "\n",
    "    # Close trial mlrun \n",
    "    def on_train_end(self, logs=None):\n",
    "        if self.run:\n",
    "            mlflow.end_run()\n",
    "\n"
   ]
  },
  {
   "cell_type": "code",
   "execution_count": 10,
   "id": "5efef5fa",
   "metadata": {},
   "outputs": [],
   "source": [
    "# Sublassed RandomSearch Tuner that implements MLflow tracking\n",
    "class MLflowTuner(RandomSearch):\n",
    "    def run_trial(self, trial, *args, **kwargs):\n",
    "        callbacks = base_callbacks + [MLflowCallback(trial.hyperparameters, trial.trial_id)]\n",
    "        kwargs['callbacks'] = callbacks\n",
    "\n",
    "        return super().run_trial(trial, *args, **kwargs)"
   ]
  },
  {
   "cell_type": "code",
   "execution_count": null,
   "id": "1342a7b7",
   "metadata": {},
   "outputs": [
    {
     "name": "stdout",
     "output_type": "stream",
     "text": [
      "Trial 1 Complete [00h 04m 50s]\n",
      "sparse_categorical_accuracy: 0.9326140880584717\n",
      "\n",
      "Best sparse_categorical_accuracy So Far: 0.9326140880584717\n",
      "Total elapsed time: 00h 04m 50s\n"
     ]
    },
    {
     "name": "stderr",
     "output_type": "stream",
     "text": [
      "/home/acaia/FingerSpellIT/FingerSpellIT/.fingerspellit/lib/python3.10/site-packages/keras/src/saving/saving_lib.py:802: UserWarning: Skipping variable loading for optimizer 'adam', because it has 2 variables whereas the saved optimizer has 90 variables. \n",
      "  saveable.load_own_variables(weights_store.get(inner_path))\n"
     ]
    },
    {
     "name": "stdout",
     "output_type": "stream",
     "text": [
      "🏃 View run Main Tunining Run: In-Vitro Image Model  at: https://dagshub.com/alfoCaiazza/FingerSpellIT.mlflow/#/experiments/0/runs/fd1851f9b0c94f1d98dc13c81befed78\n",
      "🧪 View experiment at: https://dagshub.com/alfoCaiazza/FingerSpellIT.mlflow/#/experiments/0\n"
     ]
    }
   ],
   "source": [
    "with mlflow.start_run(run_name=f\"{MLFLOW_MAIN_RUN}\"):\n",
    "    epochs = 50\n",
    "\n",
    "    mlflow.set_tag(\"stage\", \"hyperparameter_tuning\")\n",
    "    mlflow.set_tag(\"model_architecture\", \"ResNet50\")\n",
    "    mlflow.log_param('epochs', epochs)\n",
    "\n",
    "    tuner = MLflowTuner(\n",
    "        build_model,\n",
    "        objective='sparse_categorical_accuracy',\n",
    "        max_trials=10,\n",
    "        executions_per_trial=1,\n",
    "        directory=f'{TUNER_DIRECTORY}',\n",
    "        project_name=f'{TUNER_PROJECT_NAME}'\n",
    "    )\n",
    "    \n",
    "    tuner.search(\n",
    "        train_ds,\n",
    "        validation_data=val_ds,\n",
    "        epochs=epochs\n",
    "    )\n",
    "\n",
    "    best_model = tuner.get_best_models(num_models=1)[0]\n",
    "    best_hps = tuner.get_best_hyperparameters(num_trials=1)[0]\n",
    "    best_trial = tuner.oracle.get_best_trials(num_trials=1)[0]\n",
    "\n",
    "    for param, value in best_hps.values.items():\n",
    "        mlflow.log_param(param, value)\n",
    "\n",
    "    # Log metriche finali del trial\n",
    "    for metric_name, metric_data in best_trial.metrics.metrics.items():\n",
    "        if metric_data and isinstance(metric_data, dict):\n",
    "            values = metric_data.get('value', [])\n",
    "            if values:\n",
    "                mlflow.log_metric(metric_name, values[-1])\n",
    "\n",
    "    # Log best score\n",
    "    mlflow.log_metric(\"best_sparse_categorical_accuracy\", best_trial.score)\n",
    "\n",
    "    # Salving the model\n",
    "    model_path = f\"../models/{MODEL_NAME}.keras\"\n",
    "    best_model.save(model_path)\n",
    "    mlflow.log_artifact(model_path)\n",
    "\n",
    "    # Log hyperparameters space and model structure\n",
    "    mlflow.log_dict(best_hps.get_config(), \"search_space.json\")\n",
    "    with open(\"model_structure.json\", \"w\") as f:\n",
    "        f.write(best_model.to_json())\n",
    "    mlflow.log_artifact(\"model_structure.json\")\n",
    "\n",
    "\n",
    "mlflow.end_run()"
   ]
  },
  {
   "cell_type": "code",
   "execution_count": 12,
   "id": "857999e8",
   "metadata": {},
   "outputs": [
    {
     "name": "stdout",
     "output_type": "stream",
     "text": [
      "\u001b[1m22/23\u001b[0m \u001b[32m━━━━━━━━━━━━━━━━━━━\u001b[0m\u001b[37m━\u001b[0m \u001b[1m0s\u001b[0m 103ms/step - loss: 0.7607 - sparse_categorical_accuracy: 0.7760"
     ]
    },
    {
     "name": "stderr",
     "output_type": "stream",
     "text": [
      "2025-05-27 10:38:15.537091: I external/local_xla/xla/stream_executor/cuda/subprocess_compilation.cc:346] ptxas warning : Registers are spilled to local memory in function 'gemm_fusion_dot_1702', 12 bytes spill stores, 12 bytes spill loads\n",
      "\n",
      "2025-05-27 10:38:15.582560: I external/local_xla/xla/stream_executor/cuda/subprocess_compilation.cc:346] ptxas warning : Registers are spilled to local memory in function 'gemm_fusion_dot_1702', 8 bytes spill stores, 8 bytes spill loads\n",
      "\n",
      "2025-05-27 10:38:16.866355: I external/local_xla/xla/stream_executor/cuda/subprocess_compilation.cc:346] ptxas warning : Registers are spilled to local memory in function 'gemm_fusion_dot_1702', 112 bytes spill stores, 112 bytes spill loads\n",
      "\n",
      "2025-05-27 10:38:17.235784: I external/local_xla/xla/stream_executor/cuda/subprocess_compilation.cc:346] ptxas warning : Registers are spilled to local memory in function 'gemm_fusion_dot_1702', 8 bytes spill stores, 8 bytes spill loads\n",
      "\n",
      "2025-05-27 10:38:21.037881: I external/local_xla/xla/stream_executor/cuda/subprocess_compilation.cc:346] ptxas warning : Registers are spilled to local memory in function 'gemm_fusion_dot_1702', 4004 bytes spill stores, 3984 bytes spill loads\n",
      "\n",
      "2025-05-27 10:38:21.535191: I external/local_xla/xla/stream_executor/cuda/subprocess_compilation.cc:346] ptxas warning : Registers are spilled to local memory in function 'gemm_fusion_dot_1702', 1008 bytes spill stores, 1008 bytes spill loads\n",
      "\n",
      "2025-05-27 10:38:22.119081: I external/local_xla/xla/stream_executor/cuda/subprocess_compilation.cc:346] ptxas warning : Registers are spilled to local memory in function 'gemm_fusion_dot_1714', 96 bytes spill stores, 96 bytes spill loads\n",
      "\n",
      "2025-05-27 10:38:23.145857: I external/local_xla/xla/stream_executor/cuda/subprocess_compilation.cc:346] ptxas warning : Registers are spilled to local memory in function 'gemm_fusion_dot_1706', 104 bytes spill stores, 104 bytes spill loads\n",
      "\n"
     ]
    },
    {
     "name": "stdout",
     "output_type": "stream",
     "text": [
      "\u001b[1m23/23\u001b[0m \u001b[32m━━━━━━━━━━━━━━━━━━━━\u001b[0m\u001b[37m\u001b[0m \u001b[1m28s\u001b[0m 890ms/step - loss: 0.7622 - sparse_categorical_accuracy: 0.7760\n",
      "Evaluation accuracy: 0.776\n"
     ]
    },
    {
     "name": "stderr",
     "output_type": "stream",
     "text": [
      "2025-05-27 10:38:31.281148: W tensorflow/core/kernels/data/prefetch_autotuner.cc:52] Prefetch autotuner tried to allocate 33554688 bytes after encountering the first element of size 33554688 bytes.This already causes the autotune ram budget to be exceeded. To stay within the ram budget, either increase the ram budget or reduce element size\n"
     ]
    },
    {
     "name": "stdout",
     "output_type": "stream",
     "text": [
      "\u001b[1m1/1\u001b[0m \u001b[32m━━━━━━━━━━━━━━━━━━━━\u001b[0m\u001b[37m\u001b[0m \u001b[1m5s\u001b[0m 5s/step\n",
      "\u001b[1m1/1\u001b[0m \u001b[32m━━━━━━━━━━━━━━━━━━━━\u001b[0m\u001b[37m\u001b[0m \u001b[1m-2s\u001b[0m -2325927us/step\n",
      "\u001b[1m1/1\u001b[0m \u001b[32m━━━━━━━━━━━━━━━━━━━━\u001b[0m\u001b[37m\u001b[0m \u001b[1m0s\u001b[0m 134ms/step\n",
      "\u001b[1m1/1\u001b[0m \u001b[32m━━━━━━━━━━━━━━━━━━━━\u001b[0m\u001b[37m\u001b[0m \u001b[1m0s\u001b[0m 148ms/step\n",
      "\u001b[1m1/1\u001b[0m \u001b[32m━━━━━━━━━━━━━━━━━━━━\u001b[0m\u001b[37m\u001b[0m \u001b[1m0s\u001b[0m 120ms/step\n",
      "\u001b[1m1/1\u001b[0m \u001b[32m━━━━━━━━━━━━━━━━━━━━\u001b[0m\u001b[37m\u001b[0m \u001b[1m0s\u001b[0m 127ms/step\n",
      "\u001b[1m1/1\u001b[0m \u001b[32m━━━━━━━━━━━━━━━━━━━━\u001b[0m\u001b[37m\u001b[0m \u001b[1m0s\u001b[0m 129ms/step\n",
      "\u001b[1m1/1\u001b[0m \u001b[32m━━━━━━━━━━━━━━━━━━━━\u001b[0m\u001b[37m\u001b[0m \u001b[1m0s\u001b[0m 148ms/step\n",
      "\u001b[1m1/1\u001b[0m \u001b[32m━━━━━━━━━━━━━━━━━━━━\u001b[0m\u001b[37m\u001b[0m \u001b[1m0s\u001b[0m 137ms/step\n",
      "\u001b[1m1/1\u001b[0m \u001b[32m━━━━━━━━━━━━━━━━━━━━\u001b[0m\u001b[37m\u001b[0m \u001b[1m0s\u001b[0m 124ms/step\n",
      "\u001b[1m1/1\u001b[0m \u001b[32m━━━━━━━━━━━━━━━━━━━━\u001b[0m\u001b[37m\u001b[0m \u001b[1m0s\u001b[0m 161ms/step\n",
      "\u001b[1m1/1\u001b[0m \u001b[32m━━━━━━━━━━━━━━━━━━━━\u001b[0m\u001b[37m\u001b[0m \u001b[1m0s\u001b[0m 127ms/step\n",
      "\u001b[1m1/1\u001b[0m \u001b[32m━━━━━━━━━━━━━━━━━━━━\u001b[0m\u001b[37m\u001b[0m \u001b[1m0s\u001b[0m 120ms/step\n",
      "\u001b[1m1/1\u001b[0m \u001b[32m━━━━━━━━━━━━━━━━━━━━\u001b[0m\u001b[37m\u001b[0m \u001b[1m0s\u001b[0m 122ms/step\n",
      "\u001b[1m1/1\u001b[0m \u001b[32m━━━━━━━━━━━━━━━━━━━━\u001b[0m\u001b[37m\u001b[0m \u001b[1m0s\u001b[0m 120ms/step\n",
      "\u001b[1m1/1\u001b[0m \u001b[32m━━━━━━━━━━━━━━━━━━━━\u001b[0m\u001b[37m\u001b[0m \u001b[1m0s\u001b[0m 124ms/step\n",
      "\u001b[1m1/1\u001b[0m \u001b[32m━━━━━━━━━━━━━━━━━━━━\u001b[0m\u001b[37m\u001b[0m \u001b[1m0s\u001b[0m 120ms/step\n",
      "\u001b[1m1/1\u001b[0m \u001b[32m━━━━━━━━━━━━━━━━━━━━\u001b[0m\u001b[37m\u001b[0m \u001b[1m0s\u001b[0m 126ms/step\n",
      "\u001b[1m1/1\u001b[0m \u001b[32m━━━━━━━━━━━━━━━━━━━━\u001b[0m\u001b[37m\u001b[0m \u001b[1m0s\u001b[0m 129ms/step\n",
      "\u001b[1m1/1\u001b[0m \u001b[32m━━━━━━━━━━━━━━━━━━━━\u001b[0m\u001b[37m\u001b[0m \u001b[1m0s\u001b[0m 130ms/step\n",
      "\u001b[1m1/1\u001b[0m \u001b[32m━━━━━━━━━━━━━━━━━━━━\u001b[0m\u001b[37m\u001b[0m \u001b[1m0s\u001b[0m 126ms/step\n",
      "\u001b[1m1/1\u001b[0m \u001b[32m━━━━━━━━━━━━━━━━━━━━\u001b[0m\u001b[37m\u001b[0m \u001b[1m0s\u001b[0m 126ms/step\n",
      "\u001b[1m1/1\u001b[0m \u001b[32m━━━━━━━━━━━━━━━━━━━━\u001b[0m\u001b[37m\u001b[0m \u001b[1m5s\u001b[0m 5s/step\n"
     ]
    },
    {
     "name": "stderr",
     "output_type": "stream",
     "text": [
      "2025-05-27 10:38:43.230836: I tensorflow/core/framework/local_rendezvous.cc:407] Local rendezvous is aborting with status: OUT_OF_RANGE: End of sequence\n"
     ]
    }
   ],
   "source": [
    "test_loss, test_acc = best_model.evaluate(test_ds)\n",
    "print(f\"Evaluation accuracy: {test_acc:.3f}\")\n",
    "\n",
    "y_true, y_pred = [], []\n",
    "\n",
    "for images, labels in test_ds:\n",
    "    y_true.extend(labels.numpy())\n",
    "    y_pred.extend(np.argmax(best_model.predict(images), axis=1))\n",
    "\n",
    "y_true = np.array(y_true)\n",
    "y_pred = np.array(y_pred)"
   ]
  },
  {
   "cell_type": "code",
   "execution_count": 13,
   "id": "68e9356d",
   "metadata": {},
   "outputs": [
    {
     "name": "stdout",
     "output_type": "stream",
     "text": [
      "Classification Report {\n",
      "    \"a\": {\n",
      "        \"precision\": 1.0,\n",
      "        \"recall\": 0.88,\n",
      "        \"f1-score\": 0.9361702127659575,\n",
      "        \"support\": 25.0\n",
      "    },\n",
      "    \"b\": {\n",
      "        \"precision\": 1.0,\n",
      "        \"recall\": 0.46153846153846156,\n",
      "        \"f1-score\": 0.631578947368421,\n",
      "        \"support\": 26.0\n",
      "    },\n",
      "    \"c\": {\n",
      "        \"precision\": 0.5652173913043478,\n",
      "        \"recall\": 1.0,\n",
      "        \"f1-score\": 0.7222222222222222,\n",
      "        \"support\": 26.0\n",
      "    },\n",
      "    \"d\": {\n",
      "        \"precision\": 0.6585365853658537,\n",
      "        \"recall\": 0.9642857142857143,\n",
      "        \"f1-score\": 0.782608695652174,\n",
      "        \"support\": 28.0\n",
      "    },\n",
      "    \"e\": {\n",
      "        \"precision\": 0.7692307692307693,\n",
      "        \"recall\": 1.0,\n",
      "        \"f1-score\": 0.8695652173913043,\n",
      "        \"support\": 30.0\n",
      "    },\n",
      "    \"f\": {\n",
      "        \"precision\": 0.65,\n",
      "        \"recall\": 0.896551724137931,\n",
      "        \"f1-score\": 0.7536231884057971,\n",
      "        \"support\": 29.0\n",
      "    },\n",
      "    \"g\": {\n",
      "        \"precision\": 1.0,\n",
      "        \"recall\": 1.0,\n",
      "        \"f1-score\": 1.0,\n",
      "        \"support\": 33.0\n",
      "    },\n",
      "    \"h\": {\n",
      "        \"precision\": 0.90625,\n",
      "        \"recall\": 0.9666666666666667,\n",
      "        \"f1-score\": 0.9354838709677419,\n",
      "        \"support\": 30.0\n",
      "    },\n",
      "    \"i\": {\n",
      "        \"precision\": 1.0,\n",
      "        \"recall\": 0.5483870967741935,\n",
      "        \"f1-score\": 0.7083333333333334,\n",
      "        \"support\": 31.0\n",
      "    },\n",
      "    \"k\": {\n",
      "        \"precision\": 1.0,\n",
      "        \"recall\": 0.0967741935483871,\n",
      "        \"f1-score\": 0.17647058823529413,\n",
      "        \"support\": 31.0\n",
      "    },\n",
      "    \"l\": {\n",
      "        \"precision\": 0.96875,\n",
      "        \"recall\": 1.0,\n",
      "        \"f1-score\": 0.9841269841269841,\n",
      "        \"support\": 31.0\n",
      "    },\n",
      "    \"m\": {\n",
      "        \"precision\": 0.3173076923076923,\n",
      "        \"recall\": 1.0,\n",
      "        \"f1-score\": 0.48175182481751827,\n",
      "        \"support\": 33.0\n",
      "    },\n",
      "    \"n\": {\n",
      "        \"precision\": 0.7857142857142857,\n",
      "        \"recall\": 0.39285714285714285,\n",
      "        \"f1-score\": 0.5238095238095238,\n",
      "        \"support\": 28.0\n",
      "    },\n",
      "    \"o\": {\n",
      "        \"precision\": 0.9375,\n",
      "        \"recall\": 0.5357142857142857,\n",
      "        \"f1-score\": 0.6818181818181818,\n",
      "        \"support\": 28.0\n",
      "    },\n",
      "    \"p\": {\n",
      "        \"precision\": 0.9166666666666666,\n",
      "        \"recall\": 0.7586206896551724,\n",
      "        \"f1-score\": 0.8301886792452831,\n",
      "        \"support\": 29.0\n",
      "    },\n",
      "    \"q\": {\n",
      "        \"precision\": 0.9375,\n",
      "        \"recall\": 0.4838709677419355,\n",
      "        \"f1-score\": 0.6382978723404256,\n",
      "        \"support\": 31.0\n",
      "    },\n",
      "    \"r\": {\n",
      "        \"precision\": 0.6785714285714286,\n",
      "        \"recall\": 0.6129032258064516,\n",
      "        \"f1-score\": 0.6440677966101694,\n",
      "        \"support\": 31.0\n",
      "    },\n",
      "    \"s\": {\n",
      "        \"precision\": 1.0,\n",
      "        \"recall\": 1.0,\n",
      "        \"f1-score\": 1.0,\n",
      "        \"support\": 33.0\n",
      "    },\n",
      "    \"t\": {\n",
      "        \"precision\": 0.9642857142857143,\n",
      "        \"recall\": 0.9310344827586207,\n",
      "        \"f1-score\": 0.9473684210526315,\n",
      "        \"support\": 29.0\n",
      "    },\n",
      "    \"u\": {\n",
      "        \"precision\": 0.75,\n",
      "        \"recall\": 1.0,\n",
      "        \"f1-score\": 0.8571428571428571,\n",
      "        \"support\": 33.0\n",
      "    },\n",
      "    \"v\": {\n",
      "        \"precision\": 1.0,\n",
      "        \"recall\": 0.7857142857142857,\n",
      "        \"f1-score\": 0.88,\n",
      "        \"support\": 28.0\n",
      "    },\n",
      "    \"w\": {\n",
      "        \"precision\": 1.0,\n",
      "        \"recall\": 0.9375,\n",
      "        \"f1-score\": 0.967741935483871,\n",
      "        \"support\": 32.0\n",
      "    },\n",
      "    \"x\": {\n",
      "        \"precision\": 0.9333333333333333,\n",
      "        \"recall\": 0.4375,\n",
      "        \"f1-score\": 0.5957446808510638,\n",
      "        \"support\": 32.0\n",
      "    },\n",
      "    \"y\": {\n",
      "        \"precision\": 1.0,\n",
      "        \"recall\": 0.875,\n",
      "        \"f1-score\": 0.9333333333333333,\n",
      "        \"support\": 32.0\n",
      "    },\n",
      "    \"accuracy\": 0.7760778859527121,\n",
      "    \"macro avg\": {\n",
      "        \"precision\": 0.8641193277825039,\n",
      "        \"recall\": 0.7735382890499687,\n",
      "        \"f1-score\": 0.7700603486239204,\n",
      "        \"support\": 719.0\n",
      "    },\n",
      "    \"weighted avg\": {\n",
      "        \"precision\": 0.8640667642381555,\n",
      "        \"recall\": 0.7760778859527121,\n",
      "        \"f1-score\": 0.7708502958214613,\n",
      "        \"support\": 719.0\n",
      "    }\n",
      "}\n",
      "🏃 View run Evaluating In-Vitro Image Model at: https://dagshub.com/alfoCaiazza/FingerSpellIT.mlflow/#/experiments/0/runs/555aa860340f4fedac2a2f0f8bf60eeb\n",
      "🧪 View experiment at: https://dagshub.com/alfoCaiazza/FingerSpellIT.mlflow/#/experiments/0\n"
     ]
    }
   ],
   "source": [
    "with mlflow.start_run(run_name=f\"{EVALUATION_MLFLOW_RUN}\"):\n",
    "    report_path =f'../artifacts/{REPORT_NAME}.json'\n",
    "    report = classification_report(y_true, y_pred, target_names=class_names, output_dict=True)\n",
    "    print(\"Classification Report\", json.dumps(report, indent=4))\n",
    "\n",
    "    with open(report_path, \"w\") as f:\n",
    "        json.dump(report, f, indent=4)\n",
    "\n",
    "    with open(f\"../artifacts/{REPORT_NAME}.txt\", \"w\") as f:\n",
    "        f.write(classification_report(y_true, y_pred, target_names=class_names))\n",
    "\n",
    "    mlflow.log_artifact(report_path, \"evaluation_metrics\")\n",
    "\n",
    "    cm = confusion_matrix(y_true, y_pred)\n",
    "    plt.figure(figsize=(10, 8))\n",
    "    sns.heatmap(cm, annot=True, fmt='d', xticklabels=class_names, yticklabels=class_names)\n",
    "    plt.xlabel('Predicted')\n",
    "    plt.ylabel('True')\n",
    "    plt.title('Confusion Matrix')\n",
    "    plt.tight_layout()\n",
    "\n",
    "    cm_local_path = os.path.join(\"../artifacts\", f\"{CM_NAME}.png\")\n",
    "    plt.savefig(cm_local_path, dpi=300, bbox_inches='tight')\n",
    "    \n",
    "    mlflow.log_figure(plt.gcf(), f\"evaluation_plots/{CM_NAME}.png\")\n",
    "\n",
    "    plt.close()\n"
   ]
  }
 ],
 "metadata": {
  "kernelspec": {
   "display_name": ".fingerspellit",
   "language": "python",
   "name": "python3"
  },
  "language_info": {
   "codemirror_mode": {
    "name": "ipython",
    "version": 3
   },
   "file_extension": ".py",
   "mimetype": "text/x-python",
   "name": "python",
   "nbconvert_exporter": "python",
   "pygments_lexer": "ipython3",
   "version": "3.10.12"
  }
 },
 "nbformat": 4,
 "nbformat_minor": 5
}
